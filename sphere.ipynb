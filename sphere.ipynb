{
 "cells": [
  {
   "cell_type": "code",
   "execution_count": 1,
   "metadata": {},
   "outputs": [],
   "source": [
    "import matplotlib.pyplot as plt\n",
    "import numpy as np"
   ]
  },
  {
   "cell_type": "code",
   "execution_count": 2,
   "metadata": {},
   "outputs": [],
   "source": [
    "npoints = 1000\n",
    "r = 20\n",
    "\n",
    "def plot(radius, npoints):\n",
    "    coord = []\n",
    "    for i in range(npoints):\n",
    "        x, y, z = np.random.uniform(low = -1, high=1, size=3)\n",
    "        norm = 1/np.sqrt(x**2 + y**2 + z**2)\n",
    "        x_norm = x*norm\n",
    "        y_norm = y*norm\n",
    "        z_norm = z*norm\n",
    "        x_norm_r = x_norm*radius\n",
    "        y_norm_r = y_norm*radius\n",
    "        z_norm_r = z_norm*radius\n",
    "        coord.append([x_norm_r, y_norm_r, z_norm_r])\n",
    "    return coord\n",
    "\n",
    "points = plot(r, npoints)"
   ]
  },
  {
   "cell_type": "code",
   "execution_count": null,
   "metadata": {},
   "outputs": [],
   "source": [
    "ax = plt.figure().add_subplot(projection='3d')\n",
    "for i in points:\n",
    "    ax.scatter(i[0], i[1], i[2])\n",
    "    ax.set_aspect('equal', adjustable='box')\n",
    "\n",
    "ax.set_xlabel('X Label')\n",
    "ax.set_ylabel('Y Label')\n",
    "ax.set_zlabel('Z Label')\n",
    "plt.show()\n"
   ]
  },
  {
   "cell_type": "code",
   "execution_count": null,
   "metadata": {},
   "outputs": [],
   "source": [
    "def generate_cube_surface_points(cube_size, num_points):\n",
    "    \"\"\"\n",
    "    Generate points on the surface of a cube.\n",
    "\n",
    "    Parameters:\n",
    "    cube_size (float): The size of the cube.\n",
    "    num_points (int): The number of points to generate.\n",
    "\n",
    "    Returns:\n",
    "    points (numpy array): An array of points on the surface of the cube.\n",
    "    \"\"\"\n",
    "    # Define the faces of the cube\n",
    "    faces = [\n",
    "        [(0, 0, 0), (1, 0, 0), (1, 1, 0), (0, 1, 0)],  # bottom\n",
    "        [(0, 0, 1), (1, 0, 1), (1, 1, 1), (0, 1, 1)],  # top\n",
    "        [(0, 0, 0), (0, 0, 1), (1, 0, 1), (1, 0, 0)],  # front\n",
    "        [(0, 1, 0), (0, 1, 1), (1, 1, 1), (1, 1, 0)],  # back\n",
    "        [(0, 0, 0), (0, 1, 0), (0, 1, 1), (0, 0, 1)],  # left\n",
    "        [(1, 0, 0), (1, 1, 0), (1, 1, 1), (1, 0, 1)],  # right\n",
    "    ]\n",
    "\n",
    "    # Generate points on each face\n",
    "    points = []\n",
    "    for face in faces:\n",
    "        for _ in range(num_points // 6):  # 6 faces, so divide num_points by 6\n",
    "            # Generate a random point on the face\n",
    "            x = np.random.uniform(0, cube_size)\n",
    "            y = np.random.uniform(0, cube_size)\n",
    "            z = 0  # or cube_size, depending on the face\n",
    "            if face == faces[0] or face == faces[5]:  # bottom or right\n",
    "                z = 0\n",
    "            elif face == faces[1] or face == faces[4]:  # top or left\n",
    "                z = cube_size\n",
    "            elif face == faces[2]:  # front\n",
    "                z = np.random.uniform(0, cube_size)\n",
    "            elif face == faces[3]:  # back\n",
    "                z = cube_size - np.random.uniform(0, cube_size)\n",
    "            points.append((x, y, z))\n",
    "\n",
    "    return np.array(points)\n",
    "\n",
    "# Example usage:\n",
    "cube_size = 10.0\n",
    "num_points = 1000\n",
    "points = generate_cube_surface_points(cube_size, num_points)\n"
   ]
  },
  {
   "cell_type": "code",
   "execution_count": null,
   "metadata": {},
   "outputs": [],
   "source": []
  }
 ],
 "metadata": {
  "kernelspec": {
   "display_name": "base",
   "language": "python",
   "name": "python3"
  },
  "language_info": {
   "codemirror_mode": {
    "name": "ipython",
    "version": 3
   },
   "file_extension": ".py",
   "mimetype": "text/x-python",
   "name": "python",
   "nbconvert_exporter": "python",
   "pygments_lexer": "ipython3",
   "version": "3.12.7"
  }
 },
 "nbformat": 4,
 "nbformat_minor": 2
}
